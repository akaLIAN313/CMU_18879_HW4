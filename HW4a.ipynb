{
 "cells": [
  {
   "cell_type": "code",
   "execution_count": null,
   "metadata": {},
   "outputs": [],
   "source": [
    "import numpy as np\n",
    "import matplotlib.pyplot as plt\n",
    "from scipy.stats import norm\n",
    "from sklearn.gaussian_process import GaussianProcessRegressor\n",
    "from sklearn.gaussian_process.kernels import RBF\n",
    "from sklearn.preprocessing import StandardScaler  \n",
    "from numpy.random import seed\n",
    "\n",
    "#Ground truth objective function\n",
    "def objective(x): \n",
    "    return -(np.sin(x) + 0.1 * x ** 2)\n",
    "\n",
    "def sample_initial_points():\n",
    "    #TODO: Randomly sample 10 initial data points in the range of [-10, 10]\n",
    "    pass\n",
    "\n",
    "def acquisition_function():\n",
    "    #TODO: Implement the Expected Improvement (EI) acquisition function\n",
    "    pass\n",
    "\n",
    "def BO_loop():\n",
    "    #TODO: Implement the Bayesian Optimization loop\n",
    "    opt_trials = 10 \n",
    "    for i in range(opt_trials):\n",
    "        pass\n",
    "\n",
    "# Define the GP model\n",
    "kernel = RBF(length_scale=1.0, length_scale_bounds=(1e-2, 1e3))\n",
    "gp = GaussianProcessRegressor(kernel=kernel, optimizer=None) \n",
    "\n",
    "\n",
    "\n",
    "# TODO: Plot the following:\n",
    "# - Ground truth objective function\n",
    "# - GP predicted function\n",
    "# - Sampled data points "
   ]
  }
 ],
 "metadata": {
  "kernelspec": {
   "display_name": "py310",
   "language": "python",
   "name": "python3"
  },
  "language_info": {
   "name": "python",
   "version": "3.10.16"
  }
 },
 "nbformat": 4,
 "nbformat_minor": 2
}
