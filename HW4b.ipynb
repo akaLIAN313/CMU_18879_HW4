{
  "cells": [
    {
      "cell_type": "code",
      "execution_count": 3,
      "metadata": {
        "vscode": {
          "languageId": "plaintext"
        },
        "id": "UA6iUXmkgpqH",
        "outputId": "7658b8a1-3e7c-4a05-fefb-ea52bb2a7867",
        "colab": {
          "base_uri": "https://localhost:8080/",
          "height": 399
        }
      },
      "outputs": [
        {
          "output_type": "error",
          "ename": "ModuleNotFoundError",
          "evalue": "No module named 'simulation_Pyr'",
          "traceback": [
            "\u001b[0;31m---------------------------------------------------------------------------\u001b[0m",
            "\u001b[0;31mModuleNotFoundError\u001b[0m                       Traceback (most recent call last)",
            "\u001b[0;32m<ipython-input-3-f6e9e579f96b>\u001b[0m in \u001b[0;36m<cell line: 0>\u001b[0;34m()\u001b[0m\n\u001b[0;32m----> 1\u001b[0;31m \u001b[0;32mfrom\u001b[0m \u001b[0msimulation_Pyr\u001b[0m \u001b[0;32mimport\u001b[0m \u001b[0msimulation_Pyr\u001b[0m\u001b[0;34m\u001b[0m\u001b[0;34m\u001b[0m\u001b[0m\n\u001b[0m\u001b[1;32m      2\u001b[0m \u001b[0;32mfrom\u001b[0m \u001b[0msimulation_PV\u001b[0m \u001b[0;32mimport\u001b[0m \u001b[0msimulation_PV\u001b[0m\u001b[0;34m\u001b[0m\u001b[0;34m\u001b[0m\u001b[0m\n\u001b[1;32m      3\u001b[0m \u001b[0;32mfrom\u001b[0m \u001b[0mhelper\u001b[0m \u001b[0;32mimport\u001b[0m \u001b[0mfiring_rate\u001b[0m\u001b[0;34m\u001b[0m\u001b[0;34m\u001b[0m\u001b[0m\n\u001b[1;32m      4\u001b[0m \u001b[0;32mimport\u001b[0m \u001b[0mray\u001b[0m\u001b[0;34m\u001b[0m\u001b[0;34m\u001b[0m\u001b[0m\n\u001b[1;32m      5\u001b[0m \u001b[0;34m\u001b[0m\u001b[0m\n",
            "\u001b[0;31mModuleNotFoundError\u001b[0m: No module named 'simulation_Pyr'",
            "",
            "\u001b[0;31m---------------------------------------------------------------------------\u001b[0;32m\nNOTE: If your import is failing due to a missing package, you can\nmanually install dependencies using either !pip or !apt.\n\nTo view examples of installing some common dependencies, click the\n\"Open Examples\" button below.\n\u001b[0;31m---------------------------------------------------------------------------\u001b[0m\n"
          ],
          "errorDetails": {
            "actions": [
              {
                "action": "open_url",
                "actionText": "Open Examples",
                "url": "/notebooks/snippets/importing_libraries.ipynb"
              }
            ]
          }
        }
      ],
      "source": [
        "from simulation_Pyr import simulation_Pyr\n",
        "from simulation_PV import simulation_PV\n",
        "from helper import firing_rate\n",
        "import ray\n",
        "\n",
        "# Initialize Ray with multiple workers\n",
        "ray.init(ignore_reinit_error=True, num_cpus=2)\n",
        "\n",
        "total_time = 500 #total simulation time in ms\n",
        "\n",
        "amp1_range, amp2_range, freq1_range,freq2_range = \\\n",
        "    np.linspace(-5, 5, 10), np.linspace(0, 10, 10), np.linspace(-3, 3, 10), np.linspace(1, 5, 10)\n",
        "\n",
        "X1, X2, X3, X4 = np.meshgrid(amp1_range, amp2_range, freq1_range, freq2_range, indexing='ij')\n",
        "grid_points = np.column_stack((X1.flatten(), X2.flatten(), X3.flatten(), X4.flatten()))\n",
        "n_grid_points = len(grid_points)\n",
        "\n",
        "def simulate_and_evaluate(x):\n",
        "    amp1, amp2, freq1, freq2 = x[0], x[1], x[2], x[3]\n",
        "    results = [simulation_Pyr.remote(\n",
        "                num_electrode = 1,\n",
        "                amp1 = amp1, amp2 = amp2, freq1 = freq1, freq2 = freq2,\n",
        "                total_time = total_time,\n",
        "                plot_waveform = False # Set to True to plot injected current\n",
        "            ),\n",
        "            simulation_PV.remote(\n",
        "                num_electrode=1,\n",
        "                amp1 = amp1, amp2 = amp2, freq1 = freq1, freq2 = freq2,\n",
        "                total_time = total_time,\n",
        "                plot_waveform = False # Set to True to plot injected current\n",
        "            )]\n",
        "    (response_Pyr, t), (response_PV, t) = ray.get(results)\n",
        "    FR_Pyr = firing_rate(response_Pyr, 500)\n",
        "    FR_PV = firing_rate(response_PV, 500)\n",
        "    return FR_Pyr, FR_PV, FR_Pyr - FR_PV\n",
        "\n",
        "import numpy as np\n",
        "import matplotlib.pyplot as plt\n",
        "from scipy.stats import norm\n",
        "from sklearn.gaussian_process import GaussianProcessRegressor\n",
        "from sklearn.gaussian_process.kernels import RBF\n",
        "from sklearn.preprocessing import StandardScaler\n",
        "from numpy.random import seed\n",
        "\n",
        "def sample_initial_points():\n",
        "    return grid_points[np.rand.randint(0, n_grid_points, size=(10))]\n",
        "\n",
        "def acquisition_function(mean, std, best_f):\n",
        "    with np.errstate(divide='ignore', invalid='ignore'):\n",
        "        imp = mean - best_f\n",
        "        Z = imp / std\n",
        "        ei = np.zeros_like(imp)\n",
        "        ei[ei < imp]=imp[ei<imp]\n",
        "        ei += np.abs(imp) * norm.cdf(Z) + std * norm.pdf(Z)\n",
        "        ei[std == 0.0] = 0.0\n",
        "    return ei\n",
        "\n",
        "def BO_loop():\n",
        "    opt_trials = 10\n",
        "    X_init = sample_initial_points()\n",
        "    Y_init = np.zeros((len(X_init), 2))\n",
        "    obj_init = np.zeros(len(X_init))\n",
        "    for i, x in enumerate(X_init):\n",
        "        FR_Pyr, FR_PV, obj_val = simulate_and_evaluate(x)\n",
        "        Y_init[i, 0] = FR_Pyr\n",
        "        Y_init[i, 1] = FR_PV\n",
        "        obj_init[i] = obj_val\n",
        "    total_points = 10 + opt_trials\n",
        "    X_data = np.zeros((total_points, 4))\n",
        "    y_data = np.zeros((total_points, 2))\n",
        "    obj_data = np.zeros(total_points)\n",
        "    X_data[:len(X_init), 0] = X_init\n",
        "    y_data[:len(X_init), 0] = Y_init\n",
        "    obj_data[:len(X_init)] = obj_init\n",
        "    n_points = X_init.shape[0]\n",
        "\n",
        "    kernel = RBF(length_scale=1.0, length_scale_bounds=(1e-2, 1e3))\n",
        "    gp = GaussianProcessRegressor(kernel=kernel, n_restarts_optimizer=5, normalize_y=True, alpha=1e-6)\n",
        "    best_observed = np.zeros(opt_trials + 1)\n",
        "    current_best = np.max(obj_data[:n_points])\n",
        "    best_observed[0] = current_best\n",
        "    X_search = grid_points\n",
        "    for i in range(opt_trials):\n",
        "        gp.fit(X_data[:n_points], obj_data[:n_points])\n",
        "        mean, std = gp.predict(X_search, return_std=True)\n",
        "        std = std.reshape(-1, 1)\n",
        "        ei_values = acquisition_function(mean.reshape(-1, 1), std, current_best)\n",
        "        next_idx = np.argmax(ei_values)\n",
        "        next_point = X_search[next_idx]\n",
        "        FR_Pyr, FR_PV, next_value = simulate_and_evaluate(next_point)\n",
        "        X_data[n_points, 0] = next_point\n",
        "        obj_data[n_points, 0] = next_value\n",
        "        n_points += 1\n",
        "        next_value = max(next_value, current_best)\n",
        "        best_observed[i+1] = current_best\n",
        "        if i == opt_trials - 1:\n",
        "            plot_bo_iteration(X_data[:n_points], obj_data[:n_points], gp, X_search, ei_values, next_point, i)\n",
        "\n",
        "\n",
        "def plot_bo_iteration(X_data, y_data, gp, X_search, ei_values, next_point, iteration):\n",
        "    plt.figure(figsize=(10, 6))\n",
        "    X_plot = np.linspace(-10, 10, 1000).reshape(-1, 1)\n",
        "    y_plot = objective(X_plot)\n",
        "    print(X_data)\n",
        "    plt.plot(X_plot, y_plot, 'k--', label='Objective Function')\n",
        "    mean, std = gp.predict(X_plot, return_std=True)\n",
        "    plt.plot(X_plot, mean, 'b-', label='GP Mean')\n",
        "    plt.fill_between(X_plot.ravel(), mean - 2*std, mean + 2*std, alpha=0.2, color='b')\n",
        "    plt.scatter(X_data[:10], y_data[:10], c='r', marker='o', label='Init Observations')\n",
        "    plt.scatter(X_data[10:-1], y_data[10:-1], c='g', marker='o', label='Iterated Observations')\n",
        "    plt.xlabel('x')\n",
        "    plt.ylabel('f(x)')\n",
        "    plt.grid(True)\n",
        "    plt.tight_layout()\n",
        "    plt.savefig(f'bo_iteration_{iteration+1}.png')\n",
        "    plt.show()\n",
        "\n",
        "BO_loop()"
      ]
    }
  ],
  "metadata": {
    "language_info": {
      "name": "python"
    },
    "colab": {
      "provenance": []
    },
    "kernelspec": {
      "name": "python3",
      "display_name": "Python 3"
    }
  },
  "nbformat": 4,
  "nbformat_minor": 0
}