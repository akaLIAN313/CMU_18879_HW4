{
 "cells": [
  {
   "cell_type": "code",
   "execution_count": null,
   "metadata": {
    "vscode": {
     "languageId": "plaintext"
    }
   },
   "outputs": [],
   "source": [
    "#from simulation_Pyr import simulation_Pyr\n",
    "from simulation_PV import simulation_PV\n",
    "from helper import firing_rate\n",
    "import ray\n",
    "\n",
    "# Initialize Ray with multiple workers\n",
    "ray.init(ignore_reinit_error=True, num_cpus=2)\n",
    "\n",
    "total_time = 500 #total simulation time in ms\n",
    "\n",
    "# Below is an example of how to run the simulations in parallel for both neurons\n",
    "# Define the parameters for the waveform\n",
    "# These parameters need to be optimized by Bayesian optimization\n",
    "amp1 = 200\n",
    "amp2 = 100\n",
    "freq1 = 5\n",
    "freq2 = 100\n",
    "\n",
    "results = [simulation_Pyr.remote(\n",
    "            num_electrode = 1,  \n",
    "            amp1 = amp1, amp2 = amp2, freq1 = freq1, freq2 = freq2,\n",
    "            total_time = total_time,  \n",
    "            plot_waveform = False # Set to True to plot injected current\n",
    "        ),\n",
    "        simulation_PV.remote(\n",
    "            num_electrode=1,  \n",
    "            amp1 = amp1, amp2 = amp2, freq1 = freq1, freq2 = freq2,\n",
    "            total_time = total_time,  \n",
    "            plot_waveform = False # Set to True to plot injected current\n",
    "        )]\n",
    "\n",
    "# Retrieve results from Ray\n",
    "(response_Pyr, t), (response_PV, t) = ray.get(results)\n",
    "\n",
    "# Compute firing rates\n",
    "FR_Pyr = firing_rate(response_Pyr, 500)\n",
    "FR_PV = firing_rate(response_PV, 500)\n",
    "\n",
    "print(\"Firing rate of Pyramidal neuron: \", FR_Pyr)\n",
    "print(\"Firing rate of PV neuron: \", FR_PV)\n",
    "r - Sampled data points "
   ]
  }
 ],
 "metadata": {
  "language_info": {
   "name": "python"
  }
 },
 "nbformat": 4,
 "nbformat_minor": 2
}
